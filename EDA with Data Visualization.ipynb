{
 "cells": [
  {
   "cell_type": "markdown",
   "id": "a3cd218a",
   "metadata": {
    "papermill": {
     "duration": 0.012928,
     "end_time": "2023-03-27T17:17:06.563834",
     "exception": false,
     "start_time": "2023-03-27T17:17:06.550906",
     "status": "completed"
    },
    "tags": []
   },
   "source": [
    "<p style=\"text-align:center\">\n",
    "    <a href=\"https://skills.network/?utm_medium=Exinfluencer&utm_source=Exinfluencer&utm_content=000026UJ&utm_term=10006555&utm_id=NA-SkillsNetwork-Channel-SkillsNetworkCoursesIBMDS0321ENSkillsNetwork26802033-2022-01-01\" target=\"_blank\">\n",
    "    <img src=\"https://cf-courses-data.s3.us.cloud-object-storage.appdomain.cloud/assets/logos/SN_web_lightmode.png\" width=\"200\" alt=\"Skills Network Logo\"  />\n",
    "    </a>\n",
    "</p>\n"
   ]
  },
  {
   "cell_type": "markdown",
   "id": "a6fbc98d",
   "metadata": {
    "papermill": {
     "duration": 0.011257,
     "end_time": "2023-03-27T17:17:06.586890",
     "exception": false,
     "start_time": "2023-03-27T17:17:06.575633",
     "status": "completed"
    },
    "tags": []
   },
   "source": [
    "# **SpaceX  Falcon 9 First Stage Landing Prediction**\n"
   ]
  },
  {
   "cell_type": "markdown",
   "id": "602af16b",
   "metadata": {
    "papermill": {
     "duration": 0.01143,
     "end_time": "2023-03-27T17:17:06.612462",
     "exception": false,
     "start_time": "2023-03-27T17:17:06.601032",
     "status": "completed"
    },
    "tags": []
   },
   "source": [
    "## Assignment: Exploring and Preparing Data\n"
   ]
  },
  {
   "cell_type": "markdown",
   "id": "11d1f507",
   "metadata": {
    "papermill": {
     "duration": 0.011831,
     "end_time": "2023-03-27T17:17:06.636457",
     "exception": false,
     "start_time": "2023-03-27T17:17:06.624626",
     "status": "completed"
    },
    "tags": []
   },
   "source": [
    "Estimated time needed: **70** minutes\n"
   ]
  },
  {
   "cell_type": "markdown",
   "id": "efe7a991",
   "metadata": {
    "papermill": {
     "duration": 0.011871,
     "end_time": "2023-03-27T17:17:06.660845",
     "exception": false,
     "start_time": "2023-03-27T17:17:06.648974",
     "status": "completed"
    },
    "tags": []
   },
   "source": [
    "In this assignment, we will predict if the Falcon 9 first stage will land successfully. SpaceX advertises Falcon 9 rocket launches on its website with a cost of 62 million dollars; other providers cost upward of 165 million dollars each, much of the savings is due to the fact that SpaceX can reuse the first stage.\n",
    "\n",
    "In this lab, you will perform Exploratory Data Analysis and Feature Engineering.\n"
   ]
  },
  {
   "cell_type": "markdown",
   "id": "716bb14b",
   "metadata": {
    "papermill": {
     "duration": 0.011449,
     "end_time": "2023-03-27T17:17:06.685235",
     "exception": false,
     "start_time": "2023-03-27T17:17:06.673786",
     "status": "completed"
    },
    "tags": []
   },
   "source": [
    "Falcon 9 first stage will land successfully\n"
   ]
  },
  {
   "cell_type": "markdown",
   "id": "668e51cc",
   "metadata": {
    "papermill": {
     "duration": 0.012587,
     "end_time": "2023-03-27T17:17:06.710144",
     "exception": false,
     "start_time": "2023-03-27T17:17:06.697557",
     "status": "completed"
    },
    "tags": []
   },
   "source": [
    "![](https://cf-courses-data.s3.us.cloud-object-storage.appdomain.cloud/IBMDeveloperSkillsNetwork-DS0701EN-SkillsNetwork/api/Images/landing\\_1.gif)\n"
   ]
  },
  {
   "cell_type": "markdown",
   "id": "46e5545d",
   "metadata": {
    "papermill": {
     "duration": 0.01149,
     "end_time": "2023-03-27T17:17:06.734045",
     "exception": false,
     "start_time": "2023-03-27T17:17:06.722555",
     "status": "completed"
    },
    "tags": []
   },
   "source": [
    "Several examples of an unsuccessful landing are shown here:\n"
   ]
  },
  {
   "cell_type": "markdown",
   "id": "7cd2cb68",
   "metadata": {
    "papermill": {
     "duration": 0.011242,
     "end_time": "2023-03-27T17:17:06.756978",
     "exception": false,
     "start_time": "2023-03-27T17:17:06.745736",
     "status": "completed"
    },
    "tags": []
   },
   "source": [
    "![](https://cf-courses-data.s3.us.cloud-object-storage.appdomain.cloud/IBMDeveloperSkillsNetwork-DS0701EN-SkillsNetwork/api/Images/crash.gif)\n"
   ]
  },
  {
   "cell_type": "markdown",
   "id": "88a9bf98",
   "metadata": {
    "papermill": {
     "duration": 0.011486,
     "end_time": "2023-03-27T17:17:06.780354",
     "exception": false,
     "start_time": "2023-03-27T17:17:06.768868",
     "status": "completed"
    },
    "tags": []
   },
   "source": [
    "Most unsuccessful landings are planned. Space X performs a controlled landing in the oceans.\n"
   ]
  },
  {
   "cell_type": "markdown",
   "id": "9faa2886",
   "metadata": {
    "papermill": {
     "duration": 0.011331,
     "end_time": "2023-03-27T17:17:06.803429",
     "exception": false,
     "start_time": "2023-03-27T17:17:06.792098",
     "status": "completed"
    },
    "tags": []
   },
   "source": [
    "## Objectives\n",
    "\n",
    "Perform exploratory Data Analysis and Feature Engineering using `Pandas` and `Matplotlib`\n",
    "\n",
    "*   Exploratory Data Analysis\n",
    "*   Preparing Data  Feature Engineering\n"
   ]
  },
  {
   "cell_type": "markdown",
   "id": "fa48f978",
   "metadata": {
    "papermill": {
     "duration": 0.011216,
     "end_time": "2023-03-27T17:17:06.826237",
     "exception": false,
     "start_time": "2023-03-27T17:17:06.815021",
     "status": "completed"
    },
    "tags": []
   },
   "source": [
    "***\n"
   ]
  },
  {
   "cell_type": "markdown",
   "id": "4330b458",
   "metadata": {
    "papermill": {
     "duration": 0.011853,
     "end_time": "2023-03-27T17:17:06.850480",
     "exception": false,
     "start_time": "2023-03-27T17:17:06.838627",
     "status": "completed"
    },
    "tags": []
   },
   "source": [
    "### Import Libraries and Define Auxiliary Functions\n"
   ]
  },
  {
   "cell_type": "markdown",
   "id": "aa3a4670",
   "metadata": {
    "papermill": {
     "duration": 0.012163,
     "end_time": "2023-03-27T17:17:06.874300",
     "exception": false,
     "start_time": "2023-03-27T17:17:06.862137",
     "status": "completed"
    },
    "tags": []
   },
   "source": [
    "We will import the following libraries the lab\n"
   ]
  },
  {
   "cell_type": "code",
   "execution_count": 1,
   "id": "9929b035",
   "metadata": {
    "execution": {
     "iopub.execute_input": "2023-03-27T17:17:06.902284Z",
     "iopub.status.busy": "2023-03-27T17:17:06.901184Z",
     "iopub.status.idle": "2023-03-27T17:17:08.226887Z",
     "shell.execute_reply": "2023-03-27T17:17:08.225197Z"
    },
    "papermill": {
     "duration": 1.344068,
     "end_time": "2023-03-27T17:17:08.230748",
     "exception": false,
     "start_time": "2023-03-27T17:17:06.886680",
     "status": "completed"
    },
    "tags": []
   },
   "outputs": [],
   "source": [
    "# andas is a software library written for the Python programming language for data manipulation and analysis.\n",
    "import pandas as pd\n",
    "#NumPy is a library for the Python programming language, adding support for large, multi-dimensional arrays and matrices, along with a large collection of high-level mathematical functions to operate on these arrays\n",
    "import numpy as np\n",
    "# Matplotlib is a plotting library for python and pyplot gives us a MatLab like plotting framework. We will use this in our plotter function to plot data.\n",
    "import matplotlib.pyplot as plt\n",
    "#Seaborn is a Python data visualization library based on matplotlib. It provides a high-level interface for drawing attractive and informative statistical graphics\n",
    "import seaborn as sns"
   ]
  },
  {
   "cell_type": "markdown",
   "id": "d58e4817",
   "metadata": {
    "papermill": {
     "duration": 0.011549,
     "end_time": "2023-03-27T17:17:08.255073",
     "exception": false,
     "start_time": "2023-03-27T17:17:08.243524",
     "status": "completed"
    },
    "tags": []
   },
   "source": [
    "## Exploratory Data Analysis\n"
   ]
  },
  {
   "cell_type": "markdown",
   "id": "8c281d77",
   "metadata": {
    "papermill": {
     "duration": 0.01172,
     "end_time": "2023-03-27T17:17:08.278754",
     "exception": false,
     "start_time": "2023-03-27T17:17:08.267034",
     "status": "completed"
    },
    "tags": []
   },
   "source": [
    "First, let's read the SpaceX dataset into a Pandas dataframe and print its summary\n"
   ]
  },
  {
   "cell_type": "code",
   "execution_count": 2,
   "id": "f70c5899",
   "metadata": {
    "execution": {
     "iopub.execute_input": "2023-03-27T17:17:08.307461Z",
     "iopub.status.busy": "2023-03-27T17:17:08.306190Z",
     "iopub.status.idle": "2023-03-27T17:17:08.908097Z",
     "shell.execute_reply": "2023-03-27T17:17:08.906527Z"
    },
    "papermill": {
     "duration": 0.618897,
     "end_time": "2023-03-27T17:17:08.911340",
     "exception": false,
     "start_time": "2023-03-27T17:17:08.292443",
     "status": "completed"
    },
    "tags": []
   },
   "outputs": [
    {
     "data": {
      "text/html": [
       "<div>\n",
       "<style scoped>\n",
       "    .dataframe tbody tr th:only-of-type {\n",
       "        vertical-align: middle;\n",
       "    }\n",
       "\n",
       "    .dataframe tbody tr th {\n",
       "        vertical-align: top;\n",
       "    }\n",
       "\n",
       "    .dataframe thead th {\n",
       "        text-align: right;\n",
       "    }\n",
       "</style>\n",
       "<table border=\"1\" class=\"dataframe\">\n",
       "  <thead>\n",
       "    <tr style=\"text-align: right;\">\n",
       "      <th></th>\n",
       "      <th>FlightNumber</th>\n",
       "      <th>Date</th>\n",
       "      <th>BoosterVersion</th>\n",
       "      <th>PayloadMass</th>\n",
       "      <th>Orbit</th>\n",
       "      <th>LaunchSite</th>\n",
       "      <th>Outcome</th>\n",
       "      <th>Flights</th>\n",
       "      <th>GridFins</th>\n",
       "      <th>Reused</th>\n",
       "      <th>Legs</th>\n",
       "      <th>LandingPad</th>\n",
       "      <th>Block</th>\n",
       "      <th>ReusedCount</th>\n",
       "      <th>Serial</th>\n",
       "      <th>Longitude</th>\n",
       "      <th>Latitude</th>\n",
       "      <th>Class</th>\n",
       "    </tr>\n",
       "  </thead>\n",
       "  <tbody>\n",
       "    <tr>\n",
       "      <th>0</th>\n",
       "      <td>1</td>\n",
       "      <td>2010-06-04</td>\n",
       "      <td>Falcon 9</td>\n",
       "      <td>6104.959412</td>\n",
       "      <td>LEO</td>\n",
       "      <td>CCAFS SLC 40</td>\n",
       "      <td>None None</td>\n",
       "      <td>1</td>\n",
       "      <td>False</td>\n",
       "      <td>False</td>\n",
       "      <td>False</td>\n",
       "      <td>NaN</td>\n",
       "      <td>1.0</td>\n",
       "      <td>0</td>\n",
       "      <td>B0003</td>\n",
       "      <td>-80.577366</td>\n",
       "      <td>28.561857</td>\n",
       "      <td>0</td>\n",
       "    </tr>\n",
       "    <tr>\n",
       "      <th>1</th>\n",
       "      <td>2</td>\n",
       "      <td>2012-05-22</td>\n",
       "      <td>Falcon 9</td>\n",
       "      <td>525.000000</td>\n",
       "      <td>LEO</td>\n",
       "      <td>CCAFS SLC 40</td>\n",
       "      <td>None None</td>\n",
       "      <td>1</td>\n",
       "      <td>False</td>\n",
       "      <td>False</td>\n",
       "      <td>False</td>\n",
       "      <td>NaN</td>\n",
       "      <td>1.0</td>\n",
       "      <td>0</td>\n",
       "      <td>B0005</td>\n",
       "      <td>-80.577366</td>\n",
       "      <td>28.561857</td>\n",
       "      <td>0</td>\n",
       "    </tr>\n",
       "    <tr>\n",
       "      <th>2</th>\n",
       "      <td>3</td>\n",
       "      <td>2013-03-01</td>\n",
       "      <td>Falcon 9</td>\n",
       "      <td>677.000000</td>\n",
       "      <td>ISS</td>\n",
       "      <td>CCAFS SLC 40</td>\n",
       "      <td>None None</td>\n",
       "      <td>1</td>\n",
       "      <td>False</td>\n",
       "      <td>False</td>\n",
       "      <td>False</td>\n",
       "      <td>NaN</td>\n",
       "      <td>1.0</td>\n",
       "      <td>0</td>\n",
       "      <td>B0007</td>\n",
       "      <td>-80.577366</td>\n",
       "      <td>28.561857</td>\n",
       "      <td>0</td>\n",
       "    </tr>\n",
       "    <tr>\n",
       "      <th>3</th>\n",
       "      <td>4</td>\n",
       "      <td>2013-09-29</td>\n",
       "      <td>Falcon 9</td>\n",
       "      <td>500.000000</td>\n",
       "      <td>PO</td>\n",
       "      <td>VAFB SLC 4E</td>\n",
       "      <td>False Ocean</td>\n",
       "      <td>1</td>\n",
       "      <td>False</td>\n",
       "      <td>False</td>\n",
       "      <td>False</td>\n",
       "      <td>NaN</td>\n",
       "      <td>1.0</td>\n",
       "      <td>0</td>\n",
       "      <td>B1003</td>\n",
       "      <td>-120.610829</td>\n",
       "      <td>34.632093</td>\n",
       "      <td>0</td>\n",
       "    </tr>\n",
       "    <tr>\n",
       "      <th>4</th>\n",
       "      <td>5</td>\n",
       "      <td>2013-12-03</td>\n",
       "      <td>Falcon 9</td>\n",
       "      <td>3170.000000</td>\n",
       "      <td>GTO</td>\n",
       "      <td>CCAFS SLC 40</td>\n",
       "      <td>None None</td>\n",
       "      <td>1</td>\n",
       "      <td>False</td>\n",
       "      <td>False</td>\n",
       "      <td>False</td>\n",
       "      <td>NaN</td>\n",
       "      <td>1.0</td>\n",
       "      <td>0</td>\n",
       "      <td>B1004</td>\n",
       "      <td>-80.577366</td>\n",
       "      <td>28.561857</td>\n",
       "      <td>0</td>\n",
       "    </tr>\n",
       "  </tbody>\n",
       "</table>\n",
       "</div>"
      ],
      "text/plain": [
       "   FlightNumber        Date BoosterVersion  PayloadMass Orbit    LaunchSite  \\\n",
       "0             1  2010-06-04       Falcon 9  6104.959412   LEO  CCAFS SLC 40   \n",
       "1             2  2012-05-22       Falcon 9   525.000000   LEO  CCAFS SLC 40   \n",
       "2             3  2013-03-01       Falcon 9   677.000000   ISS  CCAFS SLC 40   \n",
       "3             4  2013-09-29       Falcon 9   500.000000    PO   VAFB SLC 4E   \n",
       "4             5  2013-12-03       Falcon 9  3170.000000   GTO  CCAFS SLC 40   \n",
       "\n",
       "       Outcome  Flights  GridFins  Reused   Legs LandingPad  Block  \\\n",
       "0    None None        1     False   False  False        NaN    1.0   \n",
       "1    None None        1     False   False  False        NaN    1.0   \n",
       "2    None None        1     False   False  False        NaN    1.0   \n",
       "3  False Ocean        1     False   False  False        NaN    1.0   \n",
       "4    None None        1     False   False  False        NaN    1.0   \n",
       "\n",
       "   ReusedCount Serial   Longitude   Latitude  Class  \n",
       "0            0  B0003  -80.577366  28.561857      0  \n",
       "1            0  B0005  -80.577366  28.561857      0  \n",
       "2            0  B0007  -80.577366  28.561857      0  \n",
       "3            0  B1003 -120.610829  34.632093      0  \n",
       "4            0  B1004  -80.577366  28.561857      0  "
      ]
     },
     "execution_count": 2,
     "metadata": {},
     "output_type": "execute_result"
    }
   ],
   "source": [
    "df=pd.read_csv(\"https://cf-courses-data.s3.us.cloud-object-storage.appdomain.cloud/IBM-DS0321EN-SkillsNetwork/datasets/dataset_part_2.csv\")\n",
    "\n",
    "# If you were unable to complete the previous lab correctly you can uncomment and load this csv\n",
    "\n",
    "# df = pd.read_csv('https://cf-courses-data.s3.us.cloud-object-storage.appdomain.cloud/IBMDeveloperSkillsNetwork-DS0701EN-SkillsNetwork/api/dataset_part_2.csv')\n",
    "\n",
    "df.head(5)"
   ]
  },
  {
   "cell_type": "markdown",
   "id": "33007ccd",
   "metadata": {
    "papermill": {
     "duration": 0.012344,
     "end_time": "2023-03-27T17:17:08.936932",
     "exception": false,
     "start_time": "2023-03-27T17:17:08.924588",
     "status": "completed"
    },
    "tags": []
   },
   "source": [
    "First, let's try to see how the `FlightNumber` (indicating the continuous launch attempts.) and `Payload` variables would affect the launch outcome.\n",
    "\n",
    "We can plot out the <code>FlightNumber</code> vs. <code>PayloadMass</code>and overlay the outcome of the launch. We see that as the flight number increases, the first stage is more likely to land successfully. The payload mass is also important; it seems the more massive the payload, the less likely the first stage will return.\n"
   ]
  },
  {
   "cell_type": "code",
   "execution_count": 3,
   "id": "92fd7544",
   "metadata": {
    "execution": {
     "iopub.execute_input": "2023-03-27T17:17:08.963991Z",
     "iopub.status.busy": "2023-03-27T17:17:08.963030Z",
     "iopub.status.idle": "2023-03-27T17:17:12.679850Z",
     "shell.execute_reply": "2023-03-27T17:17:12.678329Z"
    },
    "papermill": {
     "duration": 3.734593,
     "end_time": "2023-03-27T17:17:12.683642",
     "exception": false,
     "start_time": "2023-03-27T17:17:08.949049",
     "status": "completed"
    },
    "tags": []
   },
   "outputs": [
    {
     "data": {
      "image/png": "[encoded data removed]",
      "text/plain": [
       "<Figure size 2558.88x500 with 1 Axes>"
      ]
     },
     "metadata": {},
     "output_type": "display_data"
    }
   ],
   "source": [
    "sns.catplot(y=\"PayloadMass\", x=\"FlightNumber\", hue=\"Class\", data=df, aspect = 5)\n",
    "plt.xlabel(\"Flight Number\",fontsize=20)\n",
    "plt.ylabel(\"Pay load Mass (kg)\",fontsize=20)\n",
    "plt.show()"
   ]
  },
  {
   "cell_type": "markdown",
   "id": "8c9e9aac",
   "metadata": {
    "papermill": {
     "duration": 0.012695,
     "end_time": "2023-03-27T17:17:12.709976",
     "exception": false,
     "start_time": "2023-03-27T17:17:12.697281",
     "status": "completed"
    },
    "tags": []
   },
   "source": [
    "We see that different launch sites have different success rates.  <code>CCAFS LC-40</code>, has a success rate of 60 %, while  <code>KSC LC-39A</code> and <code>VAFB SLC 4E</code> has a success rate of 77%.\n"
   ]
  },
  {
   "cell_type": "markdown",
   "id": "2413ebaf",
   "metadata": {
    "papermill": {
     "duration": 0.01262,
     "end_time": "2023-03-27T17:17:12.736235",
     "exception": false,
     "start_time": "2023-03-27T17:17:12.723615",
     "status": "completed"
    },
    "tags": []
   },
   "source": [
    "Next, let's drill down to each site visualize its detailed launch records.\n"
   ]
  },
  {
   "cell_type": "markdown",
   "id": "972c0ba9",
   "metadata": {
    "papermill": {
     "duration": 0.012472,
     "end_time": "2023-03-27T17:17:12.761928",
     "exception": false,
     "start_time": "2023-03-27T17:17:12.749456",
     "status": "completed"
    },
    "tags": []
   },
   "source": [
    "### TASK 1: Visualize the relationship between Flight Number and Launch Site\n"
   ]
  },
  {
   "cell_type": "markdown",
   "id": "3233c768",
   "metadata": {
    "papermill": {
     "duration": 0.012769,
     "end_time": "2023-03-27T17:17:12.787619",
     "exception": false,
     "start_time": "2023-03-27T17:17:12.774850",
     "status": "completed"
    },
    "tags": []
   },
   "source": [
    "Use the function <code>catplot</code> to plot <code>FlightNumber</code> vs <code>LaunchSite</code>, set the  parameter <code>x</code>  parameter to <code>FlightNumber</code>,set the  <code>y</code> to <code>Launch Site</code> and set the parameter <code>hue</code> to <code>'class'</code>\n"
   ]
  },
  {
   "cell_type": "code",
   "execution_count": 4,
   "id": "0e0fd737",
   "metadata": {
    "execution": {
     "iopub.execute_input": "2023-03-27T17:17:12.815659Z",
     "iopub.status.busy": "2023-03-27T17:17:12.815166Z",
     "iopub.status.idle": "2023-03-27T17:17:13.397966Z",
     "shell.execute_reply": "2023-03-27T17:17:13.395493Z"
    },
    "papermill": {
     "duration": 0.600636,
     "end_time": "2023-03-27T17:17:13.401136",
     "exception": false,
     "start_time": "2023-03-27T17:17:12.800500",
     "status": "completed"
    },
    "tags": []
   },
   "outputs": [
    {
     "data": {
      "image/png": "[encoded data removed]",
      "text/plain": [
       "<Figure size 2558.88x500 with 1 Axes>"
      ]
     },
     "metadata": {},
     "output_type": "display_data"
    }
   ],
   "source": [
    "# Plot a scatter point chart with x axis to be Flight Number and y axis to be the launch site, and hue to be the class value\n",
    "sns.catplot(y=\"LaunchSite\", x=\"FlightNumber\", hue=\"Class\", data=df, aspect = 5)\n",
    "plt.xlabel(\"Flight Number\",fontsize=20)\n",
    "plt.ylabel(\"LaunchSite\",fontsize=20)\n",
    "plt.show()"
   ]
  },
  {
   "cell_type": "markdown",
   "id": "1407bb62",
   "metadata": {
    "papermill": {
     "duration": 0.014286,
     "end_time": "2023-03-27T17:17:13.431111",
     "exception": false,
     "start_time": "2023-03-27T17:17:13.416825",
     "status": "completed"
    },
    "tags": []
   },
   "source": [
    "Now try to explain the patterns you found in the Flight Number vs. Launch Site scatter point plots.\n"
   ]
  },
  {
   "cell_type": "markdown",
   "id": "663182df",
   "metadata": {
    "papermill": {
     "duration": 0.013514,
     "end_time": "2023-03-27T17:17:13.458672",
     "exception": false,
     "start_time": "2023-03-27T17:17:13.445158",
     "status": "completed"
    },
    "tags": []
   },
   "source": [
    "### TASK 2: Visualize the relationship between Payload and Launch Site\n"
   ]
  },
  {
   "cell_type": "markdown",
   "id": "9511dd3e",
   "metadata": {
    "papermill": {
     "duration": 0.013733,
     "end_time": "2023-03-27T17:17:13.486189",
     "exception": false,
     "start_time": "2023-03-27T17:17:13.472456",
     "status": "completed"
    },
    "tags": []
   },
   "source": [
    "We also want to observe if there is any relationship between launch sites and their payload mass.\n"
   ]
  },
  {
   "cell_type": "code",
   "execution_count": 5,
   "id": "6f5a0505",
   "metadata": {
    "execution": {
     "iopub.execute_input": "2023-03-27T17:17:13.517329Z",
     "iopub.status.busy": "2023-03-27T17:17:13.516786Z",
     "iopub.status.idle": "2023-03-27T17:17:14.106440Z",
     "shell.execute_reply": "2023-03-27T17:17:14.105007Z"
    },
    "papermill": {
     "duration": 0.60985,
     "end_time": "2023-03-27T17:17:14.109703",
     "exception": false,
     "start_time": "2023-03-27T17:17:13.499853",
     "status": "completed"
    },
    "tags": []
   },
   "outputs": [
    {
     "data": {
      "image/png": "[encoded data removed]",
      "text/plain": [
       "<Figure size 2558.88x500 with 1 Axes>"
      ]
     },
     "metadata": {},
     "output_type": "display_data"
    }
   ],
   "source": [
    "# Plot a scatter point chart with x axis to be Pay Load Mass (kg) and y axis to be the launch site, and hue to be the class value\n",
    "sns.catplot(y=\"LaunchSite\", x=\"PayloadMass\", hue=\"Class\", data=df, aspect = 5)\n",
    "plt.xlabel(\"PayloadMass\",fontsize=20)\n",
    "plt.ylabel(\"LaunchSite\",fontsize=20)\n",
    "plt.show()"
   ]
  },
  {
   "cell_type": "markdown",
   "id": "f2e54ba5",
   "metadata": {
    "papermill": {
     "duration": 0.015243,
     "end_time": "2023-03-27T17:17:14.139921",
     "exception": false,
     "start_time": "2023-03-27T17:17:14.124678",
     "status": "completed"
    },
    "tags": []
   },
   "source": [
    "Now if you observe Payload Vs. Launch Site scatter point chart you will find for the VAFB-SLC  launchsite there are no  rockets  launched for  heavypayload mass(greater than 10000).\n"
   ]
  },
  {
   "cell_type": "markdown",
   "id": "bc6f9223",
   "metadata": {
    "papermill": {
     "duration": 0.014341,
     "end_time": "2023-03-27T17:17:14.169421",
     "exception": false,
     "start_time": "2023-03-27T17:17:14.155080",
     "status": "completed"
    },
    "tags": []
   },
   "source": [
    "### TASK  3: Visualize the relationship between success rate of each orbit type\n"
   ]
  },
  {
   "cell_type": "markdown",
   "id": "3877dd8d",
   "metadata": {
    "papermill": {
     "duration": 0.014796,
     "end_time": "2023-03-27T17:17:14.199092",
     "exception": false,
     "start_time": "2023-03-27T17:17:14.184296",
     "status": "completed"
    },
    "tags": []
   },
   "source": [
    "Next, we want to visually check if there are any relationship between success rate and orbit type.\n"
   ]
  },
  {
   "cell_type": "markdown",
   "id": "0ec73fd8",
   "metadata": {
    "papermill": {
     "duration": 0.014538,
     "end_time": "2023-03-27T17:17:14.228399",
     "exception": false,
     "start_time": "2023-03-27T17:17:14.213861",
     "status": "completed"
    },
    "tags": []
   },
   "source": [
    "Let's create a `bar chart` for the sucess rate of each orbit\n"
   ]
  },
  {
   "cell_type": "code",
   "execution_count": 6,
   "id": "f111fd52",
   "metadata": {
    "execution": {
     "iopub.execute_input": "2023-03-27T17:17:14.260481Z",
     "iopub.status.busy": "2023-03-27T17:17:14.259954Z",
     "iopub.status.idle": "2023-03-27T17:17:14.548019Z",
     "shell.execute_reply": "2023-03-27T17:17:14.546532Z"
    },
    "papermill": {
     "duration": 0.307587,
     "end_time": "2023-03-27T17:17:14.551110",
     "exception": false,
     "start_time": "2023-03-27T17:17:14.243523",
     "status": "completed"
    },
    "tags": []
   },
   "outputs": [
    {
     "data": {
      "text/plain": [
       "<AxesSubplot:xlabel='Orbit'>"
      ]
     },
     "execution_count": 6,
     "metadata": {},
     "output_type": "execute_result"
    },
    {
     "data": {
      "image/png": "[encoded data removed]",
      "text/plain": [
       "<Figure size 640x480 with 1 Axes>"
      ]
     },
     "metadata": {},
     "output_type": "display_data"
    }
   ],
   "source": [
    "# HINT use groupby method on Orbit column and get the mean of Class column\n",
    "df.groupby('Orbit')['Class'].mean().plot.bar()"
   ]
  },
  {
   "cell_type": "markdown",
   "id": "83c8babf",
   "metadata": {
    "papermill": {
     "duration": 0.015466,
     "end_time": "2023-03-27T17:17:14.581978",
     "exception": false,
     "start_time": "2023-03-27T17:17:14.566512",
     "status": "completed"
    },
    "tags": []
   },
   "source": [
    "Analyze the ploted bar chart try to find which orbits have high sucess rate.\n"
   ]
  },
  {
   "cell_type": "markdown",
   "id": "ae9c7af3",
   "metadata": {
    "papermill": {
     "duration": 0.014855,
     "end_time": "2023-03-27T17:17:14.612290",
     "exception": false,
     "start_time": "2023-03-27T17:17:14.597435",
     "status": "completed"
    },
    "tags": []
   },
   "source": [
    "### TASK  4: Visualize the relationship between FlightNumber and Orbit type\n"
   ]
  },
  {
   "cell_type": "markdown",
   "id": "0c837999",
   "metadata": {
    "papermill": {
     "duration": 0.015417,
     "end_time": "2023-03-27T17:17:14.642801",
     "exception": false,
     "start_time": "2023-03-27T17:17:14.627384",
     "status": "completed"
    },
    "tags": []
   },
   "source": [
    "For each orbit, we want to see if there is any relationship between FlightNumber and Orbit type.\n"
   ]
  },
  {
   "cell_type": "code",
   "execution_count": 7,
   "id": "51378cd0",
   "metadata": {
    "execution": {
     "iopub.execute_input": "2023-03-27T17:17:14.676883Z",
     "iopub.status.busy": "2023-03-27T17:17:14.676434Z",
     "iopub.status.idle": "2023-03-27T17:17:15.301193Z",
     "shell.execute_reply": "2023-03-27T17:17:15.299614Z"
    },
    "papermill": {
     "duration": 0.645851,
     "end_time": "2023-03-27T17:17:15.304788",
     "exception": false,
     "start_time": "2023-03-27T17:17:14.658937",
     "status": "completed"
    },
    "tags": []
   },
   "outputs": [
    {
     "data": {
      "image/png": "[encoded data removed]",
      "text/plain": [
       "<Figure size 2558.88x500 with 1 Axes>"
      ]
     },
     "metadata": {},
     "output_type": "display_data"
    }
   ],
   "source": [
    "# Plot a scatter point chart with x axis to be FlightNumber and y axis to be the Orbit, and hue to be the class value\n",
    "sns.catplot(y='Orbit',x='FlightNumber',hue='Class',data=df,aspect=5)\n",
    "plt.xlabel(\"FlightNumber\",fontsize=22)\n",
    "plt.ylabel(\"Orbit\",fontsize=22)\n",
    "plt.show()"
   ]
  },
  {
   "cell_type": "markdown",
   "id": "37e73204",
   "metadata": {
    "papermill": {
     "duration": 0.015843,
     "end_time": "2023-03-27T17:17:15.336892",
     "exception": false,
     "start_time": "2023-03-27T17:17:15.321049",
     "status": "completed"
    },
    "tags": []
   },
   "source": [
    "You should see that in the LEO orbit the Success appears related to the number of flights; on the other hand, there seems to be no relationship between flight number when in GTO orbit.\n"
   ]
  },
  {
   "cell_type": "markdown",
   "id": "b3c8f205",
   "metadata": {
    "papermill": {
     "duration": 0.016533,
     "end_time": "2023-03-27T17:17:15.369626",
     "exception": false,
     "start_time": "2023-03-27T17:17:15.353093",
     "status": "completed"
    },
    "tags": []
   },
   "source": [
    "### TASK  5: Visualize the relationship between Payload and Orbit type\n"
   ]
  },
  {
   "cell_type": "markdown",
   "id": "30991143",
   "metadata": {
    "papermill": {
     "duration": 0.016005,
     "end_time": "2023-03-27T17:17:15.402648",
     "exception": false,
     "start_time": "2023-03-27T17:17:15.386643",
     "status": "completed"
    },
    "tags": []
   },
   "source": [
    "Similarly, we can plot the Payload vs. Orbit scatter point charts to reveal the relationship between Payload and Orbit type\n"
   ]
  },
  {
   "cell_type": "code",
   "execution_count": 8,
   "id": "a53f5499",
   "metadata": {
    "execution": {
     "iopub.execute_input": "2023-03-27T17:17:15.440520Z",
     "iopub.status.busy": "2023-03-27T17:17:15.439454Z",
     "iopub.status.idle": "2023-03-27T17:17:16.101378Z",
     "shell.execute_reply": "2023-03-27T17:17:16.099768Z"
    },
    "papermill": {
     "duration": 0.684843,
     "end_time": "2023-03-27T17:17:16.104404",
     "exception": false,
     "start_time": "2023-03-27T17:17:15.419561",
     "status": "completed"
    },
    "tags": []
   },
   "outputs": [
    {
     "data": {
      "image/png": "[encoded data removed]",
      "text/plain": [
       "<Figure size 2558.88x500 with 1 Axes>"
      ]
     },
     "metadata": {},
     "output_type": "display_data"
    }
   ],
   "source": [
    "# Plot a scatter point chart with x axis to be Payload and y axis to be the Orbit, and hue to be the class value\n",
    "sns.catplot(y='Orbit',x='PayloadMass',hue='Class',data=df,aspect=5)\n",
    "plt.xlabel(\"PayloadMass\",fontsize=22)\n",
    "plt.ylabel(\"Orbit\",fontsize=22)\n",
    "plt.show()"
   ]
  },
  {
   "cell_type": "markdown",
   "id": "0ea5fced",
   "metadata": {
    "papermill": {
     "duration": 0.01663,
     "end_time": "2023-03-27T17:17:16.137742",
     "exception": false,
     "start_time": "2023-03-27T17:17:16.121112",
     "status": "completed"
    },
    "tags": []
   },
   "source": [
    "With heavy payloads the successful landing or positive landing rate are more for Polar,LEO and ISS.\n",
    "\n",
    "However for GTO we cannot distinguish this well as both positive landing rate and negative landing(unsuccessful mission) are both there here.\n"
   ]
  },
  {
   "cell_type": "markdown",
   "id": "b7d0f95f",
   "metadata": {
    "papermill": {
     "duration": 0.016436,
     "end_time": "2023-03-27T17:17:16.170937",
     "exception": false,
     "start_time": "2023-03-27T17:17:16.154501",
     "status": "completed"
    },
    "tags": []
   },
   "source": [
    "### TASK  6: Visualize the launch success yearly trend\n"
   ]
  },
  {
   "cell_type": "markdown",
   "id": "9fa5497a",
   "metadata": {
    "papermill": {
     "duration": 0.017439,
     "end_time": "2023-03-27T17:17:16.205136",
     "exception": false,
     "start_time": "2023-03-27T17:17:16.187697",
     "status": "completed"
    },
    "tags": []
   },
   "source": [
    "You can plot a line chart with x axis to be <code>Year</code> and y axis to be average success rate, to get the average launch success trend.\n"
   ]
  },
  {
   "cell_type": "markdown",
   "id": "e589c41c",
   "metadata": {
    "papermill": {
     "duration": 0.02523,
     "end_time": "2023-03-27T17:17:16.249441",
     "exception": false,
     "start_time": "2023-03-27T17:17:16.224211",
     "status": "completed"
    },
    "tags": []
   },
   "source": [
    "The function will help you get the year from the date:\n"
   ]
  },
  {
   "cell_type": "code",
   "execution_count": 9,
   "id": "f791e45f",
   "metadata": {
    "execution": {
     "iopub.execute_input": "2023-03-27T17:17:16.298241Z",
     "iopub.status.busy": "2023-03-27T17:17:16.297177Z",
     "iopub.status.idle": "2023-03-27T17:17:16.310693Z",
     "shell.execute_reply": "2023-03-27T17:17:16.309551Z"
    },
    "papermill": {
     "duration": 0.045838,
     "end_time": "2023-03-27T17:17:16.314992",
     "exception": false,
     "start_time": "2023-03-27T17:17:16.269154",
     "status": "completed"
    },
    "tags": []
   },
   "outputs": [
    {
     "data": {
      "text/plain": [
       "['2010',\n",
       " '2012',\n",
       " '2013',\n",
       " '2013',\n",
       " '2013',\n",
       " '2014',\n",
       " '2014',\n",
       " '2014',\n",
       " '2014',\n",
       " '2014',\n",
       " '2014',\n",
       " '2015',\n",
       " '2015',\n",
       " '2015',\n",
       " '2015',\n",
       " '2015',\n",
       " '2015',\n",
       " '2016',\n",
       " '2016',\n",
       " '2016',\n",
       " '2016',\n",
       " '2016',\n",
       " '2016',\n",
       " '2016',\n",
       " '2016',\n",
       " '2017',\n",
       " '2017',\n",
       " '2017',\n",
       " '2017',\n",
       " '2017',\n",
       " '2017',\n",
       " '2017',\n",
       " '2017',\n",
       " '2017',\n",
       " '2017',\n",
       " '2017',\n",
       " '2017',\n",
       " '2017',\n",
       " '2017',\n",
       " '2017',\n",
       " '2017',\n",
       " '2017',\n",
       " '2017',\n",
       " '2018',\n",
       " '2018',\n",
       " '2018',\n",
       " '2018',\n",
       " '2018',\n",
       " '2018',\n",
       " '2018',\n",
       " '2018',\n",
       " '2018',\n",
       " '2018',\n",
       " '2018',\n",
       " '2018',\n",
       " '2018',\n",
       " '2018',\n",
       " '2018',\n",
       " '2018',\n",
       " '2018',\n",
       " '2018',\n",
       " '2019',\n",
       " '2019',\n",
       " '2019',\n",
       " '2019',\n",
       " '2019',\n",
       " '2019',\n",
       " '2019',\n",
       " '2019',\n",
       " '2019',\n",
       " '2019',\n",
       " '2020',\n",
       " '2020',\n",
       " '2020',\n",
       " '2020',\n",
       " '2020',\n",
       " '2020',\n",
       " '2020',\n",
       " '2020',\n",
       " '2020',\n",
       " '2020',\n",
       " '2020',\n",
       " '2020',\n",
       " '2020',\n",
       " '2020',\n",
       " '2020',\n",
       " '2020',\n",
       " '2020',\n",
       " '2020',\n",
       " '2020']"
      ]
     },
     "execution_count": 9,
     "metadata": {},
     "output_type": "execute_result"
    }
   ],
   "source": [
    "# A function to Extract years from the date \n",
    "year=[]\n",
    "def Extract_year(date):\n",
    "    for i in df[\"Date\"]:\n",
    "        year.append(i.split(\"-\")[0])\n",
    "    return year\n",
    "Extract_year(df['Date'])"
   ]
  },
  {
   "cell_type": "code",
   "execution_count": 10,
   "id": "5232880c",
   "metadata": {
    "execution": {
     "iopub.execute_input": "2023-03-27T17:17:16.357370Z",
     "iopub.status.busy": "2023-03-27T17:17:16.355669Z",
     "iopub.status.idle": "2023-03-27T17:17:16.579663Z",
     "shell.execute_reply": "2023-03-27T17:17:16.578117Z"
    },
    "papermill": {
     "duration": 0.245909,
     "end_time": "2023-03-27T17:17:16.582975",
     "exception": false,
     "start_time": "2023-03-27T17:17:16.337066",
     "status": "completed"
    },
    "tags": []
   },
   "outputs": [
    {
     "data": {
      "text/plain": [
       "<AxesSubplot:xlabel='Year'>"
      ]
     },
     "execution_count": 10,
     "metadata": {},
     "output_type": "execute_result"
    },
    {
     "data": {
      "image/png": "[encoded data removed]",
      "text/plain": [
       "<Figure size 640x480 with 1 Axes>"
      ]
     },
     "metadata": {},
     "output_type": "display_data"
    }
   ],
   "source": [
    "# Plot a line chart with x axis to be the extracted year and y axis to be the success rate\n",
    "temp_df = df.copy()\n",
    "temp_df['Year'] = year\n",
    "temp_df.groupby('Year')['Class'].mean().plot()"
   ]
  },
  {
   "cell_type": "markdown",
   "id": "9d6bdf84",
   "metadata": {
    "papermill": {
     "duration": 0.018185,
     "end_time": "2023-03-27T17:17:16.620033",
     "exception": false,
     "start_time": "2023-03-27T17:17:16.601848",
     "status": "completed"
    },
    "tags": []
   },
   "source": [
    "you can observe that the sucess rate since 2013 kept increasing till 2020\n"
   ]
  },
  {
   "cell_type": "markdown",
   "id": "80cc8763",
   "metadata": {
    "papermill": {
     "duration": 0.01716,
     "end_time": "2023-03-27T17:17:16.655835",
     "exception": false,
     "start_time": "2023-03-27T17:17:16.638675",
     "status": "completed"
    },
    "tags": []
   },
   "source": [
    "## Features Engineering\n"
   ]
  },
  {
   "cell_type": "markdown",
   "id": "1b396ba8",
   "metadata": {
    "papermill": {
     "duration": 0.017189,
     "end_time": "2023-03-27T17:17:16.690551",
     "exception": false,
     "start_time": "2023-03-27T17:17:16.673362",
     "status": "completed"
    },
    "tags": []
   },
   "source": [
    "By now, you should obtain some preliminary insights about how each important variable would affect the success rate, we will select the features that will be used in success prediction in the future module.\n"
   ]
  },
  {
   "cell_type": "code",
   "execution_count": 11,
   "id": "f7857f92",
   "metadata": {
    "execution": {
     "iopub.execute_input": "2023-03-27T17:17:16.728506Z",
     "iopub.status.busy": "2023-03-27T17:17:16.727197Z",
     "iopub.status.idle": "2023-03-27T17:17:16.748065Z",
     "shell.execute_reply": "2023-03-27T17:17:16.746693Z"
    },
    "papermill": {
     "duration": 0.04312,
     "end_time": "2023-03-27T17:17:16.750990",
     "exception": false,
     "start_time": "2023-03-27T17:17:16.707870",
     "status": "completed"
    },
    "tags": []
   },
   "outputs": [
    {
     "data": {
      "text/html": [
       "<div>\n",
       "<style scoped>\n",
       "    .dataframe tbody tr th:only-of-type {\n",
       "        vertical-align: middle;\n",
       "    }\n",
       "\n",
       "    .dataframe tbody tr th {\n",
       "        vertical-align: top;\n",
       "    }\n",
       "\n",
       "    .dataframe thead th {\n",
       "        text-align: right;\n",
       "    }\n",
       "</style>\n",
       "<table border=\"1\" class=\"dataframe\">\n",
       "  <thead>\n",
       "    <tr style=\"text-align: right;\">\n",
       "      <th></th>\n",
       "      <th>FlightNumber</th>\n",
       "      <th>PayloadMass</th>\n",
       "      <th>Orbit</th>\n",
       "      <th>LaunchSite</th>\n",
       "      <th>Flights</th>\n",
       "      <th>GridFins</th>\n",
       "      <th>Reused</th>\n",
       "      <th>Legs</th>\n",
       "      <th>LandingPad</th>\n",
       "      <th>Block</th>\n",
       "      <th>ReusedCount</th>\n",
       "      <th>Serial</th>\n",
       "    </tr>\n",
       "  </thead>\n",
       "  <tbody>\n",
       "    <tr>\n",
       "      <th>0</th>\n",
       "      <td>1</td>\n",
       "      <td>6104.959412</td>\n",
       "      <td>LEO</td>\n",
       "      <td>CCAFS SLC 40</td>\n",
       "      <td>1</td>\n",
       "      <td>False</td>\n",
       "      <td>False</td>\n",
       "      <td>False</td>\n",
       "      <td>NaN</td>\n",
       "      <td>1.0</td>\n",
       "      <td>0</td>\n",
       "      <td>B0003</td>\n",
       "    </tr>\n",
       "    <tr>\n",
       "      <th>1</th>\n",
       "      <td>2</td>\n",
       "      <td>525.000000</td>\n",
       "      <td>LEO</td>\n",
       "      <td>CCAFS SLC 40</td>\n",
       "      <td>1</td>\n",
       "      <td>False</td>\n",
       "      <td>False</td>\n",
       "      <td>False</td>\n",
       "      <td>NaN</td>\n",
       "      <td>1.0</td>\n",
       "      <td>0</td>\n",
       "      <td>B0005</td>\n",
       "    </tr>\n",
       "    <tr>\n",
       "      <th>2</th>\n",
       "      <td>3</td>\n",
       "      <td>677.000000</td>\n",
       "      <td>ISS</td>\n",
       "      <td>CCAFS SLC 40</td>\n",
       "      <td>1</td>\n",
       "      <td>False</td>\n",
       "      <td>False</td>\n",
       "      <td>False</td>\n",
       "      <td>NaN</td>\n",
       "      <td>1.0</td>\n",
       "      <td>0</td>\n",
       "      <td>B0007</td>\n",
       "    </tr>\n",
       "    <tr>\n",
       "      <th>3</th>\n",
       "      <td>4</td>\n",
       "      <td>500.000000</td>\n",
       "      <td>PO</td>\n",
       "      <td>VAFB SLC 4E</td>\n",
       "      <td>1</td>\n",
       "      <td>False</td>\n",
       "      <td>False</td>\n",
       "      <td>False</td>\n",
       "      <td>NaN</td>\n",
       "      <td>1.0</td>\n",
       "      <td>0</td>\n",
       "      <td>B1003</td>\n",
       "    </tr>\n",
       "    <tr>\n",
       "      <th>4</th>\n",
       "      <td>5</td>\n",
       "      <td>3170.000000</td>\n",
       "      <td>GTO</td>\n",
       "      <td>CCAFS SLC 40</td>\n",
       "      <td>1</td>\n",
       "      <td>False</td>\n",
       "      <td>False</td>\n",
       "      <td>False</td>\n",
       "      <td>NaN</td>\n",
       "      <td>1.0</td>\n",
       "      <td>0</td>\n",
       "      <td>B1004</td>\n",
       "    </tr>\n",
       "  </tbody>\n",
       "</table>\n",
       "</div>"
      ],
      "text/plain": [
       "   FlightNumber  PayloadMass Orbit    LaunchSite  Flights  GridFins  Reused  \\\n",
       "0             1  6104.959412   LEO  CCAFS SLC 40        1     False   False   \n",
       "1             2   525.000000   LEO  CCAFS SLC 40        1     False   False   \n",
       "2             3   677.000000   ISS  CCAFS SLC 40        1     False   False   \n",
       "3             4   500.000000    PO   VAFB SLC 4E        1     False   False   \n",
       "4             5  3170.000000   GTO  CCAFS SLC 40        1     False   False   \n",
       "\n",
       "    Legs LandingPad  Block  ReusedCount Serial  \n",
       "0  False        NaN    1.0            0  B0003  \n",
       "1  False        NaN    1.0            0  B0005  \n",
       "2  False        NaN    1.0            0  B0007  \n",
       "3  False        NaN    1.0            0  B1003  \n",
       "4  False        NaN    1.0            0  B1004  "
      ]
     },
     "execution_count": 11,
     "metadata": {},
     "output_type": "execute_result"
    }
   ],
   "source": [
    "features = df[['FlightNumber', 'PayloadMass', 'Orbit', 'LaunchSite', 'Flights', 'GridFins', 'Reused', 'Legs', 'LandingPad', 'Block', 'ReusedCount', 'Serial']]\n",
    "features.head()"
   ]
  },
  {
   "cell_type": "markdown",
   "id": "f9c0f5b2",
   "metadata": {
    "papermill": {
     "duration": 0.017625,
     "end_time": "2023-03-27T17:17:16.786228",
     "exception": false,
     "start_time": "2023-03-27T17:17:16.768603",
     "status": "completed"
    },
    "tags": []
   },
   "source": [
    "### TASK  7: Create dummy variables to categorical columns\n"
   ]
  },
  {
   "cell_type": "markdown",
   "id": "6b04f66a",
   "metadata": {
    "papermill": {
     "duration": 0.017435,
     "end_time": "2023-03-27T17:17:16.822081",
     "exception": false,
     "start_time": "2023-03-27T17:17:16.804646",
     "status": "completed"
    },
    "tags": []
   },
   "source": [
    "Use the function <code>get_dummies</code> and <code>features</code> dataframe to apply OneHotEncoder to the column <code>Orbits</code>, <code>LaunchSite</code>, <code>LandingPad</code>, and <code>Serial</code>. Assign the value to the variable <code>features_one_hot</code>, display the results using the method head. Your result dataframe must include all features including the encoded ones.\n"
   ]
  },
  {
   "cell_type": "code",
   "execution_count": 12,
   "id": "c9da9848",
   "metadata": {
    "execution": {
     "iopub.execute_input": "2023-03-27T17:17:16.861685Z",
     "iopub.status.busy": "2023-03-27T17:17:16.860178Z",
     "iopub.status.idle": "2023-03-27T17:17:16.894621Z",
     "shell.execute_reply": "2023-03-27T17:17:16.892958Z"
    },
    "papermill": {
     "duration": 0.057607,
     "end_time": "2023-03-27T17:17:16.897539",
     "exception": false,
     "start_time": "2023-03-27T17:17:16.839932",
     "status": "completed"
    },
    "tags": []
   },
   "outputs": [
    {
     "data": {
      "text/html": [
       "<div>\n",
       "<style scoped>\n",
       "    .dataframe tbody tr th:only-of-type {\n",
       "        vertical-align: middle;\n",
       "    }\n",
       "\n",
       "    .dataframe tbody tr th {\n",
       "        vertical-align: top;\n",
       "    }\n",
       "\n",
       "    .dataframe thead th {\n",
       "        text-align: right;\n",
       "    }\n",
       "</style>\n",
       "<table border=\"1\" class=\"dataframe\">\n",
       "  <thead>\n",
       "    <tr style=\"text-align: right;\">\n",
       "      <th></th>\n",
       "      <th>FlightNumber</th>\n",
       "      <th>Date</th>\n",
       "      <th>BoosterVersion</th>\n",
       "      <th>PayloadMass</th>\n",
       "      <th>Outcome</th>\n",
       "      <th>Flights</th>\n",
       "      <th>GridFins</th>\n",
       "      <th>Reused</th>\n",
       "      <th>Legs</th>\n",
       "      <th>Block</th>\n",
       "      <th>...</th>\n",
       "      <th>Serial_B1048</th>\n",
       "      <th>Serial_B1049</th>\n",
       "      <th>Serial_B1050</th>\n",
       "      <th>Serial_B1051</th>\n",
       "      <th>Serial_B1054</th>\n",
       "      <th>Serial_B1056</th>\n",
       "      <th>Serial_B1058</th>\n",
       "      <th>Serial_B1059</th>\n",
       "      <th>Serial_B1060</th>\n",
       "      <th>Serial_B1062</th>\n",
       "    </tr>\n",
       "  </thead>\n",
       "  <tbody>\n",
       "    <tr>\n",
       "      <th>0</th>\n",
       "      <td>1</td>\n",
       "      <td>2010-06-04</td>\n",
       "      <td>Falcon 9</td>\n",
       "      <td>6104.959412</td>\n",
       "      <td>None None</td>\n",
       "      <td>1</td>\n",
       "      <td>False</td>\n",
       "      <td>False</td>\n",
       "      <td>False</td>\n",
       "      <td>1.0</td>\n",
       "      <td>...</td>\n",
       "      <td>0</td>\n",
       "      <td>0</td>\n",
       "      <td>0</td>\n",
       "      <td>0</td>\n",
       "      <td>0</td>\n",
       "      <td>0</td>\n",
       "      <td>0</td>\n",
       "      <td>0</td>\n",
       "      <td>0</td>\n",
       "      <td>0</td>\n",
       "    </tr>\n",
       "    <tr>\n",
       "      <th>1</th>\n",
       "      <td>2</td>\n",
       "      <td>2012-05-22</td>\n",
       "      <td>Falcon 9</td>\n",
       "      <td>525.000000</td>\n",
       "      <td>None None</td>\n",
       "      <td>1</td>\n",
       "      <td>False</td>\n",
       "      <td>False</td>\n",
       "      <td>False</td>\n",
       "      <td>1.0</td>\n",
       "      <td>...</td>\n",
       "      <td>0</td>\n",
       "      <td>0</td>\n",
       "      <td>0</td>\n",
       "      <td>0</td>\n",
       "      <td>0</td>\n",
       "      <td>0</td>\n",
       "      <td>0</td>\n",
       "      <td>0</td>\n",
       "      <td>0</td>\n",
       "      <td>0</td>\n",
       "    </tr>\n",
       "    <tr>\n",
       "      <th>2</th>\n",
       "      <td>3</td>\n",
       "      <td>2013-03-01</td>\n",
       "      <td>Falcon 9</td>\n",
       "      <td>677.000000</td>\n",
       "      <td>None None</td>\n",
       "      <td>1</td>\n",
       "      <td>False</td>\n",
       "      <td>False</td>\n",
       "      <td>False</td>\n",
       "      <td>1.0</td>\n",
       "      <td>...</td>\n",
       "      <td>0</td>\n",
       "      <td>0</td>\n",
       "      <td>0</td>\n",
       "      <td>0</td>\n",
       "      <td>0</td>\n",
       "      <td>0</td>\n",
       "      <td>0</td>\n",
       "      <td>0</td>\n",
       "      <td>0</td>\n",
       "      <td>0</td>\n",
       "    </tr>\n",
       "    <tr>\n",
       "      <th>3</th>\n",
       "      <td>4</td>\n",
       "      <td>2013-09-29</td>\n",
       "      <td>Falcon 9</td>\n",
       "      <td>500.000000</td>\n",
       "      <td>False Ocean</td>\n",
       "      <td>1</td>\n",
       "      <td>False</td>\n",
       "      <td>False</td>\n",
       "      <td>False</td>\n",
       "      <td>1.0</td>\n",
       "      <td>...</td>\n",
       "      <td>0</td>\n",
       "      <td>0</td>\n",
       "      <td>0</td>\n",
       "      <td>0</td>\n",
       "      <td>0</td>\n",
       "      <td>0</td>\n",
       "      <td>0</td>\n",
       "      <td>0</td>\n",
       "      <td>0</td>\n",
       "      <td>0</td>\n",
       "    </tr>\n",
       "    <tr>\n",
       "      <th>4</th>\n",
       "      <td>5</td>\n",
       "      <td>2013-12-03</td>\n",
       "      <td>Falcon 9</td>\n",
       "      <td>3170.000000</td>\n",
       "      <td>None None</td>\n",
       "      <td>1</td>\n",
       "      <td>False</td>\n",
       "      <td>False</td>\n",
       "      <td>False</td>\n",
       "      <td>1.0</td>\n",
       "      <td>...</td>\n",
       "      <td>0</td>\n",
       "      <td>0</td>\n",
       "      <td>0</td>\n",
       "      <td>0</td>\n",
       "      <td>0</td>\n",
       "      <td>0</td>\n",
       "      <td>0</td>\n",
       "      <td>0</td>\n",
       "      <td>0</td>\n",
       "      <td>0</td>\n",
       "    </tr>\n",
       "  </tbody>\n",
       "</table>\n",
       "<p>5 rows × 86 columns</p>\n",
       "</div>"
      ],
      "text/plain": [
       "   FlightNumber        Date BoosterVersion  PayloadMass      Outcome  Flights  \\\n",
       "0             1  2010-06-04       Falcon 9  6104.959412    None None        1   \n",
       "1             2  2012-05-22       Falcon 9   525.000000    None None        1   \n",
       "2             3  2013-03-01       Falcon 9   677.000000    None None        1   \n",
       "3             4  2013-09-29       Falcon 9   500.000000  False Ocean        1   \n",
       "4             5  2013-12-03       Falcon 9  3170.000000    None None        1   \n",
       "\n",
       "   GridFins  Reused   Legs  Block  ...  Serial_B1048  Serial_B1049  \\\n",
       "0     False   False  False    1.0  ...             0             0   \n",
       "1     False   False  False    1.0  ...             0             0   \n",
       "2     False   False  False    1.0  ...             0             0   \n",
       "3     False   False  False    1.0  ...             0             0   \n",
       "4     False   False  False    1.0  ...             0             0   \n",
       "\n",
       "   Serial_B1050  Serial_B1051  Serial_B1054  Serial_B1056  Serial_B1058  \\\n",
       "0             0             0             0             0             0   \n",
       "1             0             0             0             0             0   \n",
       "2             0             0             0             0             0   \n",
       "3             0             0             0             0             0   \n",
       "4             0             0             0             0             0   \n",
       "\n",
       "   Serial_B1059  Serial_B1060  Serial_B1062  \n",
       "0             0             0             0  \n",
       "1             0             0             0  \n",
       "2             0             0             0  \n",
       "3             0             0             0  \n",
       "4             0             0             0  \n",
       "\n",
       "[5 rows x 86 columns]"
      ]
     },
     "execution_count": 12,
     "metadata": {},
     "output_type": "execute_result"
    }
   ],
   "source": [
    "# HINT: Use get_dummies() function on the categorical columns\n",
    "features_one_hot = pd.get_dummies(df, columns=['Orbit', 'LaunchSite','LandingPad', 'Serial'], drop_first=False)\n",
    "features_one_hot.head()"
   ]
  },
  {
   "cell_type": "markdown",
   "id": "49d4e3f1",
   "metadata": {
    "papermill": {
     "duration": 0.018551,
     "end_time": "2023-03-27T17:17:16.934135",
     "exception": false,
     "start_time": "2023-03-27T17:17:16.915584",
     "status": "completed"
    },
    "tags": []
   },
   "source": [
    "### TASK  8: Cast all numeric columns to `float64`\n"
   ]
  },
  {
   "cell_type": "markdown",
   "id": "b3eb0840",
   "metadata": {
    "papermill": {
     "duration": 0.017762,
     "end_time": "2023-03-27T17:17:16.969985",
     "exception": false,
     "start_time": "2023-03-27T17:17:16.952223",
     "status": "completed"
    },
    "tags": []
   },
   "source": [
    "Now that our <code>features_one_hot</code> dataframe only contains numbers cast the entire dataframe to variable type <code>float64</code>\n"
   ]
  },
  {
   "cell_type": "code",
   "execution_count": 13,
   "id": "e8cf1011",
   "metadata": {
    "execution": {
     "iopub.execute_input": "2023-03-27T17:17:17.010304Z",
     "iopub.status.busy": "2023-03-27T17:17:17.008830Z",
     "iopub.status.idle": "2023-03-27T17:17:17.016988Z",
     "shell.execute_reply": "2023-03-27T17:17:17.015375Z"
    },
    "papermill": {
     "duration": 0.031171,
     "end_time": "2023-03-27T17:17:17.019952",
     "exception": false,
     "start_time": "2023-03-27T17:17:16.988781",
     "status": "completed"
    },
    "tags": []
   },
   "outputs": [],
   "source": [
    "# HINT: use astype function\n",
    "features_one_hot = features_one_hot.astype('float64', errors='ignore')"
   ]
  },
  {
   "cell_type": "code",
   "execution_count": 14,
   "id": "7ec2b77c",
   "metadata": {
    "execution": {
     "iopub.execute_input": "2023-03-27T17:17:17.063821Z",
     "iopub.status.busy": "2023-03-27T17:17:17.062093Z",
     "iopub.status.idle": "2023-03-27T17:17:17.080765Z",
     "shell.execute_reply": "2023-03-27T17:17:17.079060Z"
    },
    "papermill": {
     "duration": 0.043788,
     "end_time": "2023-03-27T17:17:17.084246",
     "exception": false,
     "start_time": "2023-03-27T17:17:17.040458",
     "status": "completed"
    },
    "tags": []
   },
   "outputs": [],
   "source": [
    "features_one_hot.to_csv('dataset_part_3.csv', index=False)"
   ]
  },
  {
   "cell_type": "markdown",
   "id": "4f7fc33a",
   "metadata": {
    "papermill": {
     "duration": 0.018444,
     "end_time": "2023-03-27T17:17:17.121646",
     "exception": false,
     "start_time": "2023-03-27T17:17:17.103202",
     "status": "completed"
    },
    "tags": []
   },
   "source": [
    "We can now export it to a <b>CSV</b> for the next section,but to make the answers consistent, in the next lab we will provide data in a pre-selected date range.\n"
   ]
  },
  {
   "cell_type": "markdown",
   "id": "b71eff40",
   "metadata": {
    "papermill": {
     "duration": 0.019746,
     "end_time": "2023-03-27T17:17:17.160785",
     "exception": false,
     "start_time": "2023-03-27T17:17:17.141039",
     "status": "completed"
    },
    "tags": []
   },
   "source": [
    "<code>features_one_hot.to_csv('dataset_part\\_3.csv', index=False)</code>\n"
   ]
  },
  {
   "cell_type": "markdown",
   "id": "928cbd36",
   "metadata": {
    "papermill": {
     "duration": 0.018347,
     "end_time": "2023-03-27T17:17:17.197193",
     "exception": false,
     "start_time": "2023-03-27T17:17:17.178846",
     "status": "completed"
    },
    "tags": []
   },
   "source": [
    "## Authors\n"
   ]
  },
  {
   "cell_type": "markdown",
   "id": "eeeaf1d1",
   "metadata": {
    "papermill": {
     "duration": 0.019163,
     "end_time": "2023-03-27T17:17:17.235763",
     "exception": false,
     "start_time": "2023-03-27T17:17:17.216600",
     "status": "completed"
    },
    "tags": []
   },
   "source": [
    "<a href=\"https://www.linkedin.com/in/joseph-s-50398b136/?utm_medium=Exinfluencer&utm_source=Exinfluencer&utm_content=000026UJ&utm_term=10006555&utm_id=NA-SkillsNetwork-Channel-SkillsNetworkCoursesIBMDS0321ENSkillsNetwork26802033-2022-01-01\">Joseph Santarcangelo</a> has a PhD in Electrical Engineering, his research focused on using machine learning, signal processing, and computer vision to determine how videos impact human cognition. Joseph has been working for IBM since he completed his PhD.\n"
   ]
  },
  {
   "cell_type": "markdown",
   "id": "01c41e92",
   "metadata": {
    "papermill": {
     "duration": 0.020158,
     "end_time": "2023-03-27T17:17:17.274093",
     "exception": false,
     "start_time": "2023-03-27T17:17:17.253935",
     "status": "completed"
    },
    "tags": []
   },
   "source": [
    "<a href=\"https://www.linkedin.com/in/nayefaboutayoun/?utm_medium=Exinfluencer&utm_source=Exinfluencer&utm_content=000026UJ&utm_term=10006555&utm_id=NA-SkillsNetwork-Channel-SkillsNetworkCoursesIBMDS0321ENSkillsNetwork26802033-2022-01-01\">Nayef Abou Tayoun</a> is a Data Scientist at IBM and pursuing a Master of Management in Artificial intelligence degree at Queen's University.\n"
   ]
  },
  {
   "cell_type": "markdown",
   "id": "2f39e9f2",
   "metadata": {
    "papermill": {
     "duration": 0.017679,
     "end_time": "2023-03-27T17:17:17.309885",
     "exception": false,
     "start_time": "2023-03-27T17:17:17.292206",
     "status": "completed"
    },
    "tags": []
   },
   "source": [
    "## Change Log\n"
   ]
  },
  {
   "cell_type": "markdown",
   "id": "29c0bfd3",
   "metadata": {
    "papermill": {
     "duration": 0.017693,
     "end_time": "2023-03-27T17:17:17.346345",
     "exception": false,
     "start_time": "2023-03-27T17:17:17.328652",
     "status": "completed"
    },
    "tags": []
   },
   "source": [
    "| Date (YYYY-MM-DD) | Version | Changed By    | Change Description      |\n",
    "| ----------------- | ------- | ------------- | ----------------------- |\n",
    "| 2021-10-12        | 1.1     | Lakshmi Holla | Modified markdown       |\n",
    "| 2020-09-20        | 1.0     | Joseph        | Modified Multiple Areas |\n",
    "| 2020-11-10        | 1.1     | Nayef         | updating the input data |\n"
   ]
  },
  {
   "cell_type": "markdown",
   "id": "85c42f0d",
   "metadata": {
    "papermill": {
     "duration": 0.017459,
     "end_time": "2023-03-27T17:17:17.381822",
     "exception": false,
     "start_time": "2023-03-27T17:17:17.364363",
     "status": "completed"
    },
    "tags": []
   },
   "source": [
    "Copyright © 2020 IBM Corporation. All rights reserved.\n"
   ]
  }
 ],
 "metadata": {
  "kernelspec": {
   "display_name": "Python 3",
   "language": "python",
   "name": "python3"
  },
  "language_info": {
   "codemirror_mode": {
    "name": "ipython",
    "version": 3
   },
   "file_extension": ".py",
   "mimetype": "text/x-python",
   "name": "python",
   "nbconvert_exporter": "python",
   "pygments_lexer": "ipython3",
   "version": "3.7.12"
  },
  "papermill": {
   "default_parameters": {},
   "duration": 23.72627,
   "end_time": "2023-03-27T17:17:18.527396",
   "environment_variables": {},
   "exception": null,
   "input_path": "__notebook__.ipynb",
   "output_path": "__notebook__.ipynb",
   "parameters": {},
   "start_time": "2023-03-27T17:16:54.801126",
   "version": "2.4.0"
  }
 },
 "nbformat": 4,
 "nbformat_minor": 5
}
